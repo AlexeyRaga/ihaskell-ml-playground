{
 "cells": [
  {
   "cell_type": "code",
   "execution_count": 1,
   "metadata": {},
   "outputs": [
    {
     "data": {
      "text/plain": [
       "\"Hello World\""
      ]
     },
     "metadata": {},
     "output_type": "display_data"
    }
   ],
   "source": [
    "let x = \"Hello World\" in print x"
   ]
  },
  {
   "cell_type": "code",
   "execution_count": 2,
   "metadata": {},
   "outputs": [],
   "source": [
    "import Data.ByteString.Lazy as BS\n",
    "import qualified Data.Csv.HMatrix as CSV\n",
    "import Numeric.LinearAlgebra\n",
    "import Data.Csv (HasHeader (..))\n",
    "import Numeric.LinearAlgebra.Data\n",
    "import Prelude hiding ((<>))\n",
    "import Data.Function ((&))"
   ]
  },
  {
   "cell_type": "code",
   "execution_count": 3,
   "metadata": {},
   "outputs": [],
   "source": [
    "variance :: Matrix Double -> Matrix Double\n",
    "variance = asRow . takeDiag . unSym . snd . meanCov\n",
    "\n",
    "-- | Principal components analysis.\n",
    "-- Expects normalised matrix as an input value.\n",
    "--\n",
    "-- The covariance matrix of z-scores (normalised matrix) is equal to the Pearson correlation coefficient matrix.\n",
    "-- This function expects normalised matrix as its input, so taking its covariance gives us correlation\n",
    "-- that can be used to find eigenvectors.\n",
    "pca :: Matrix Double -> Matrix Double\n",
    "pca m = m <> (snd . eigSH . snd . meanCov) m  \n",
    "\n",
    "-- | Explains variance ratio between \"original\" normalised matrix and PCA matrix\n",
    "explainPcaRatio :: Matrix Double -> Matrix Double -> Double\n",
    "explainPcaRatio mnorm mpca =\n",
    "  let pcaVar = variance mpca\n",
    "      normVar = variance mnorm\n",
    "  in sumElements pcaVar / sumElements normVar * 100"
   ]
  },
  {
   "cell_type": "code",
   "execution_count": 4,
   "metadata": {},
   "outputs": [],
   "source": [
    "wine_csv <- BS.readFile \"./wine-quality/winequality-red.csv\"\n",
    "raw_data = CSV.decodeMatrixWith HasHeader ';' wine_csv"
   ]
  },
  {
   "cell_type": "code",
   "execution_count": 5,
   "metadata": {},
   "outputs": [],
   "source": [
    "(rawMean, rawCov) = meanCov raw_data\n",
    "\n",
    "-- variance is a diagonal of a covariance matrix\n",
    "rawVariance = unSym rawCov & takeDiag & asRow\n",
    "rawStdDev = sqrt rawVariance"
   ]
  },
  {
   "cell_type": "code",
   "execution_count": 6,
   "metadata": {},
   "outputs": [],
   "source": [
    "centered = raw_data - asRow rawMean\n",
    "normData = centered / rawStdDev"
   ]
  },
  {
   "cell_type": "code",
   "execution_count": 7,
   "metadata": {},
   "outputs": [],
   "source": [
    "normInput  = normData ?? (All, DropLast 1)\n",
    "normOutput = normData ?? (All, TakeLast 1)"
   ]
  },
  {
   "cell_type": "code",
   "execution_count": 8,
   "metadata": {},
   "outputs": [
    {
     "data": {
      "text/plain": [
       "1599x11\n",
       "1.6190  -0.4508  -1.7739   0.0437   0.0670   0.9136  -0.1610   0.2822   0.0051   0.2677  -0.0486\n",
       "0.7989  -1.8560  -0.9114   0.5479  -0.0184  -0.9294  -1.0095  -0.7623  -0.5205  -0.0628   0.1381\n",
       " :        :        :        :        :        :        :        :        :        :        :    \n",
       "2.2698  -0.9795   0.6278   0.6396   0.0677   0.8601  -0.3214   0.4687  -0.6121  -0.7792  -0.0409\n",
       "0.4268   0.5365   1.6284  -0.3916   0.4503   0.4960   1.1888  -0.0422   0.4042  -0.7792   0.4496"
      ]
     },
     "metadata": {},
     "output_type": "display_data"
    }
   ],
   "source": [
    "components = pca normInput\n",
    "dispShort 5 12 4 components"
   ]
  },
  {
   "cell_type": "code",
   "execution_count": 9,
   "metadata": {},
   "outputs": [
    {
     "data": {
      "text/plain": [
       "70.80743772386744"
      ]
     },
     "metadata": {},
     "output_type": "display_data"
    }
   ],
   "source": [
    "explainPcaRatio normInput (components ¿ [0..3])"
   ]
  },
  {
   "cell_type": "code",
   "execution_count": null,
   "metadata": {},
   "outputs": [],
   "source": []
  }
 ],
 "metadata": {
  "kernelspec": {
   "display_name": "Haskell",
   "language": "haskell",
   "name": "haskell"
  },
  "language_info": {
   "codemirror_mode": "ihaskell",
   "file_extension": ".hs",
   "name": "haskell",
   "pygments_lexer": "Haskell",
   "version": "8.6.5"
  }
 },
 "nbformat": 4,
 "nbformat_minor": 2
}
